{
 "cells": [
  {
   "cell_type": "code",
   "execution_count": 2,
   "id": "82a20b45",
   "metadata": {},
   "outputs": [
    {
     "name": "stdout",
     "output_type": "stream",
     "text": [
      "The autoreload extension is already loaded. To reload it, use:\n",
      "  %reload_ext autoreload\n"
     ]
    }
   ],
   "source": [
    "%load_ext autoreload\n",
    "%autoreload 2"
   ]
  },
  {
   "cell_type": "code",
   "execution_count": 8,
   "id": "ff42d57a",
   "metadata": {},
   "outputs": [],
   "source": [
    "import math\n",
    "import traceback\n",
    "from tqdm import tqdm\n",
    "import numpy as np\n",
    "import torch"
   ]
  },
  {
   "cell_type": "code",
   "execution_count": 4,
   "id": "a4ff1325",
   "metadata": {},
   "outputs": [],
   "source": [
    "import asyncioConfig as asyncC\n",
    "from models.ClassifierInterface import ClassifierInterface\n",
    "from requestsConfig import GetSession\n",
    "from gdelt.GdeltConsumer import GdeltConsumer\n",
    "from articleContent.ArticleConsumer import ArticleConsumer\n",
    "from dataset import Dataset"
   ]
  },
  {
   "cell_type": "code",
   "execution_count": 9,
   "id": "a413be84",
   "metadata": {},
   "outputs": [
    {
     "name": "stdout",
     "output_type": "stream",
     "text": [
      "GPU is available\n"
     ]
    }
   ],
   "source": [
    "# Dependencies setup\n",
    "session = GetSession()\n",
    "gdeltConsumer = GdeltConsumer.getConsumer(session)\n",
    "articleConsumer = ArticleConsumer.getConsumer(session)\n",
    "asyncC.asyncioSetup()\n",
    "\n",
    "if torch.cuda.is_available():\n",
    "    device = torch.device(\"cuda\")\n",
    "    print(\"GPU is available\")\n",
    "else:\n",
    "    device = torch.device(\"cpu\")\n",
    "    print(\"GPU not available, CPU used\")"
   ]
  },
  {
   "cell_type": "code",
   "execution_count": 6,
   "id": "0e3fb16f",
   "metadata": {},
   "outputs": [],
   "source": [
    "# Splits a dataset to have at least lineCount lines, rounded up by one article\n",
    "def TrainingDataset(fromDataset: Dataset, lineCount: int):\n",
    "    trainingDataset = Dataset([])\n",
    "    lines = 0\n",
    "    i = 0\n",
    "    while lines < lineCount and i < len(fromDataset):\n",
    "        trainingDataset.append(fromDataset[i])\n",
    "        lines+= len(fromDataset[i].content)\n",
    "        i+=1\n",
    "    return trainingDataset\n",
    "\n",
    "def Predict(dataset: Dataset, classifier: ClassifierInterface, labels: list[int|float]):\n",
    "    if not labels:\n",
    "        return\n",
    "    if isinstance(labels[0], int):\n",
    "        correct = 0\n",
    "    \n",
    "    error = 0\n",
    "    squaredError = 0\n",
    "    \n",
    "    for i, article in enumerate(tqdm(dataset)):\n",
    "        actual = labels[i]\n",
    "        if actual == None:\n",
    "            continue\n",
    "        prediction = round(np.mean(classifier.predict(article)))\n",
    "        if(prediction == actual):\n",
    "            correct += 1\n",
    "        error += abs(actual - prediction)\n",
    "        squaredError += abs(actual - prediction)**2\n",
    "    \n",
    "    if isinstance(labels[0], int):\n",
    "        print(f'Correct predictions {correct}/{len(dataset)}, {(correct/len(dataset))*100}%')\n",
    "    print(f'Error {error}, mean error {error/len(dataset)}')\n",
    "    print(f'Root Mean Square Error {math.sqrt(squaredError/len(dataset))}')"
   ]
  },
  {
   "cell_type": "code",
   "execution_count": null,
   "id": "8d3d3ab6",
   "metadata": {},
   "outputs": [],
   "source": [
    "def main():\n",
    "    ds = Dataset.load('clearCorpus.json')\n",
    "    tds = TrainingDataset(ds, 30000)\n",
    "    from models.NieBert import NieBert\n",
    "    labels = NieBert.getRegressionLabels(ds)\n",
    "    weights = NieBert.getRegressionWeights(ds)\n",
    "    modelNames = ['bert-base-uncased']#, 'roberta-large', 'google/electra-large-discriminator', 'microsoft/deberta-v3-large', 'albert-xxlarge-v2']\n",
    "    perDeviceTrainBatchSizes = [16, 4, 4, 8, 2]\n",
    "    for i in range(len(modelNames)):\n",
    "        mn = modelNames[i]\n",
    "        s = perDeviceTrainBatchSizes[i]\n",
    "        try:\n",
    "            model = NieBert.load(f'{mn}-20-3'.replace('/', '-'))\n",
    "        except Exception:\n",
    "            print(f'Now training {mn}')\n",
    "            try:\n",
    "                model = NieBert.trainFromDataset(tds, labels[:len(tds)], weights[:len(tds)], mn, per_device_train_batch_size=s, gradient_accumulation_steps=(16//s))\n",
    "                print(f'Saving model {mn}')\n",
    "                model.save(f'{mn}-20-3'.replace('/', '-'))\n",
    "            except Exception as e:\n",
    "                print(f'EXCEPTION for {mn}: {e}')\n",
    "                traceback.print_exc()\n",
    "                continue\n",
    "        else:\n",
    "            print(f'Model {mn} loaded')\n",
    "        print(f'Predictions for {mn}')\n",
    "        Predict(ds[len(tds):], model, labels[len(tds):])"
   ]
  }
 ],
 "metadata": {
  "kernelspec": {
   "display_name": "venv",
   "language": "python",
   "name": "python3"
  },
  "language_info": {
   "codemirror_mode": {
    "name": "ipython",
    "version": 3
   },
   "file_extension": ".py",
   "mimetype": "text/x-python",
   "name": "python",
   "nbconvert_exporter": "python",
   "pygments_lexer": "ipython3",
   "version": "3.11.12"
  }
 },
 "nbformat": 4,
 "nbformat_minor": 5
}
